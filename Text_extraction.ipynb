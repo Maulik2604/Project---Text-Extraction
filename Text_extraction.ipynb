{
  "nbformat": 4,
  "nbformat_minor": 0,
  "metadata": {
    "colab": {
      "provenance": [],
      "include_colab_link": true
    },
    "kernelspec": {
      "name": "python3",
      "display_name": "Python 3"
    },
    "language_info": {
      "name": "python"
    }
  },
  "cells": [
    {
      "cell_type": "markdown",
      "metadata": {
        "id": "view-in-github",
        "colab_type": "text"
      },
      "source": [
        "<a href=\"https://colab.research.google.com/github/Maulik2604/Project---Text-Extraction/blob/main/Text_extraction.ipynb\" target=\"_parent\"><img src=\"https://colab.research.google.com/assets/colab-badge.svg\" alt=\"Open In Colab\"/></a>"
      ]
    },
    {
      "cell_type": "markdown",
      "source": [
        "Project -> Text Extraction From Any File Type"
      ],
      "metadata": {
        "id": "cavSDr1xUs-9"
      }
    },
    {
      "cell_type": "code",
      "execution_count": null,
      "metadata": {
        "id": "5S8DQwSfwV06"
      },
      "outputs": [],
      "source": [
        "!pip install PyPDF2\n",
        "!pip install textract\n",
        "!pip install pytesseract\n",
        "!apt-get install tesseract-ocr\n",
        "!apt-get install libtesseract-dev\n",
        "!pip install pytesseract\n",
        "!pip install textract\n",
        "!pip install pdf2image\n",
        "!apt-get install poppler-utils"
      ]
    },
    {
      "cell_type": "code",
      "source": [
        "from PyPDF2 import PdfReader\n",
        "import pytesseract\n",
        "from PIL import Image\n",
        "import textract"
      ],
      "metadata": {
        "id": "GS2dzYJ7wix4"
      },
      "execution_count": 2,
      "outputs": []
    },
    {
      "cell_type": "code",
      "source": [
        "def extract_text_from_pdf(pdf_path):\n",
        "    text = \"\"\n",
        "    with open(pdf_path, 'rb') as file:\n",
        "        reader = PdfReader(file)\n",
        "        for page in reader.pages:\n",
        "            text += page.extract_text()\n",
        "    return text\n"
      ],
      "metadata": {
        "id": "3S4JrVSZwlB_"
      },
      "execution_count": 3,
      "outputs": []
    },
    {
      "cell_type": "code",
      "source": [
        "def extract_text_from_image(image_path):\n",
        "    image = Image.open(image_path)\n",
        "    text = pytesseract.image_to_string(image)\n",
        "    return text\n"
      ],
      "metadata": {
        "id": "n-yslFs3wr-s"
      },
      "execution_count": 4,
      "outputs": []
    },
    {
      "cell_type": "code",
      "source": [
        "def extract_text_from_other(file_path):\n",
        "    text = textract.process(file_path)\n",
        "    return text.decode('utf-8')\n"
      ],
      "metadata": {
        "id": "rrJTj2OpwuUI"
      },
      "execution_count": 5,
      "outputs": []
    },
    {
      "cell_type": "code",
      "source": [
        "def extract_text_from_file(file_path):\n",
        "    if file_path.lower().endswith('.pdf'):\n",
        "        return extract_text_from_pdf(file_path)\n",
        "    elif file_path.lower().endswith(('.jpg', '.jpeg', '.png', '.gif', '.webp')):\n",
        "        return extract_text_from_image(file_path)\n",
        "    else:\n",
        "        return extract_text_from_other(file_path)"
      ],
      "metadata": {
        "id": "u97-LaThwwHx"
      },
      "execution_count": 6,
      "outputs": []
    },
    {
      "cell_type": "code",
      "source": [
        "file_path = '/content/Flipkart_data.csv'\n",
        "extracted_text = extract_text_from_file(file_path)\n",
        "print(extracted_text)"
      ],
      "metadata": {
        "id": "vICSlXcjwyTZ"
      },
      "execution_count": null,
      "outputs": []
    },
    {
      "cell_type": "code",
      "source": [
        "extracted_text"
      ],
      "metadata": {
        "id": "dl7GrUoZw0uS"
      },
      "execution_count": null,
      "outputs": []
    },
    {
      "cell_type": "code",
      "source": [
        "text = extracted_text.replace('\\n', ' ').replace('\\t', ' ')\n",
        "print(text)"
      ],
      "metadata": {
        "id": "G-UGYv23w849"
      },
      "execution_count": null,
      "outputs": []
    }
  ]
}